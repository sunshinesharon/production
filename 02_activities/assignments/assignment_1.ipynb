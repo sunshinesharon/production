{
 "cells": [
  {
   "cell_type": "markdown",
   "metadata": {},
   "source": [
    "# Working with parquet files\n",
    "\n",
    "## Objective\n",
    "\n",
    "+ In this assignment, we will use the data downloaded with the module `data_manager` to create features.\n",
    "\n",
    "(11 pts total)\n",
    "\n",
    "## Prerequisites\n",
    "\n",
    "+ This notebook assumes that price data is available to you in the environment variable `PRICE_DATA`. If you have not done so, then execute the notebook `01_materials/labs/2_data_engineering.ipynb` to create this data set.\n"
   ]
  },
  {
   "cell_type": "markdown",
   "metadata": {},
   "source": [
    "+ Load the environment variables using dotenv. (1 pt)"
   ]
  },
  {
   "cell_type": "code",
   "execution_count": 14,
   "metadata": {},
   "outputs": [
    {
     "name": "stdout",
     "output_type": "stream",
     "text": [
      "PRICE_DATA Path: ../../05_src/data/prices/\n"
     ]
    }
   ],
   "source": [
    "# Write your code below.\n",
    "from dotenv import load_dotenv\n",
    "import os\n",
    "\n",
    "# Load environment variables\n",
    "load_dotenv()\n",
    "\n",
    "# Retrieve PRICE_DATA path\n",
    "price_data_path = os.getenv(\"PRICE_DATA\")\n",
    "\n",
    "# Ensure the environment variable is correctly set\n",
    "if not price_data_path or not os.path.exists(price_data_path):\n",
    "    raise ValueError(\"ERROR: PRICE_DATA environment variable is not set or the path does not exist.\")\n",
    "\n",
    "print(f\"PRICE_DATA Path: {price_data_path}\")"
   ]
  },
  {
   "cell_type": "code",
   "execution_count": 15,
   "metadata": {},
   "outputs": [],
   "source": [
    "import dask.dataframe as dd"
   ]
  },
  {
   "cell_type": "markdown",
   "metadata": {},
   "source": [
    "+ Load the environment variable `PRICE_DATA`.\n",
    "+ Use [glob](https://docs.python.org/3/library/glob.html) to find the path of all parquet files in the directory `PRICE_DATA`.\n",
    "\n",
    "(1pt)"
   ]
  },
  {
   "cell_type": "code",
   "execution_count": 28,
   "metadata": {},
   "outputs": [
    {
     "name": "stdout",
     "output_type": "stream",
     "text": [
      "Found 13078 Parquet files:\n",
      "['../../05_src/data/prices/CTAS/CTAS_2002/part.0.parquet', '../../05_src/data/prices/CTAS/CTAS_2005/part.0.parquet', '../../05_src/data/prices/CTAS/CTAS_2004/part.0.parquet', '../../05_src/data/prices/CTAS/CTAS_2003/part.0.parquet', '../../05_src/data/prices/CTAS/CTAS_2010/part.0.parquet']\n"
     ]
    }
   ],
   "source": [
    "import os\n",
    "from glob import glob\n",
    "\n",
    "# Find all parquet files in the PRICE_DATA directory\n",
    "parquet_files = glob(os.path.join(price_data_path, \"**/*.parquet\"), recursive=True)\n",
    "\n",
    "# Ensure at least one file is found\n",
    "if not parquet_files:\n",
    "    raise ValueError(f\"No parquet files found in {price_data_path}. Ensure you have executed `2_data_engineering.ipynb`.\")\n",
    "\n",
    "# Print first few files for verification\n",
    "print(f\"Found {len(parquet_files)} Parquet files:\")\n",
    "print(parquet_files[:5])  # Show first 5 files"
   ]
  },
  {
   "cell_type": "markdown",
   "metadata": {},
   "source": [
    "For each ticker and using Dask, do the following:\n",
    "\n",
    "+ Add lags for variables Close and Adj_Close.\n",
    "+ Add returns based on Close:\n",
    "    \n",
    "    - `returns`: (Close / Close_lag_1) - 1\n",
    "\n",
    "+ Add the following range: \n",
    "\n",
    "    - `hi_lo_range`: this is the day's High minus Low.\n",
    "\n",
    "+ Assign the result to `dd_feat`.\n",
    "\n",
    "(4 pt)"
   ]
  },
  {
   "cell_type": "code",
   "execution_count": null,
   "metadata": {},
   "outputs": [],
   "source": [
    "# Write your code below.\n",
    "\n",
    "# Read all parquet files into a Dask DataFrame\n",
    "df = dd.read_parquet(parquet_files, engine=\"pyarrow\")\n",
    "\n",
    "# Print column names for debugging\n",
    "print(\"Original Columns:\", df.columns)\n",
    "\n",
    "# Rename 'Adj Close' to 'Adj_Close' if needed\n",
    "if \"Adj Close\" in df.columns:\n",
    "    df = df.rename(columns={\"Adj Close\": \"Adj_Close\"})\n",
    "\n",
    "# Ensure 'Ticker' is a column (reset index if needed)\n",
    "if \"Ticker\" not in df.columns:\n",
    "    df = df.reset_index()\n",
    "\n",
    "# Ensure required columns exist\n",
    "required_columns = {\"Ticker\", \"Close\", \"Adj_Close\", \"High\", \"Low\", \"Date\"}\n",
    "missing_cols = required_columns - set(df.columns)\n",
    "if missing_cols:\n",
    "    raise ValueError(f\"ERROR: Missing required columns: {missing_cols}\")\n",
    "\n",
    "# Ensure Date is properly sorted for time series operations\n",
    "df = df.sort_values([\"Ticker\", \"Date\"])\n",
    "\n",
    "# Add lagged variables for Close and Adj_Close\n",
    "df['Close_lag_1'] = df.groupby(\"Ticker\")['Close'].shift(1, meta=(\"f8\"))\n",
    "df['Adj_Close_lag_1'] = df.groupby(\"Ticker\")['Adj_Close'].shift(1, meta=(\"f8\"))\n",
    "\n",
    "# Calculate daily returns: (Close / Close_lag_1) - 1\n",
    "df['returns'] = (df['Close'] / df['Close_lag_1']) - 1\n",
    "\n",
    "# Calculate hi_lo_range: High - Low\n",
    "df['hi_lo_range'] = df['High'] - df['Low']\n",
    "\n",
    "# Assign the result to dd_feat\n",
    "dd_feat = df\n",
    "\n",
    "# Display first few rows\n",
    "dd_feat.head()\n"
   ]
  },
  {
   "cell_type": "markdown",
   "metadata": {},
   "source": [
    "+ Convert the Dask data frame to a pandas data frame. \n",
    "+ Add a new feature containing the moving average of `returns` using a window of 10 days. There are several ways to solve this task, a simple one uses `.rolling(10).mean()`.\n",
    "\n",
    "(3 pt)"
   ]
  },
  {
   "cell_type": "code",
   "execution_count": null,
   "metadata": {},
   "outputs": [],
   "source": [
    "df_pandas = dd_feat.compute()\n",
    "\n",
    "# Add 10-day moving average of returns\n",
    "df_pandas['returns_moving_avg_10'] = df_pandas.groupby(\"Ticker\")['returns'].rolling(10).mean().reset_index(level=0, drop=True)\n",
    "\n",
    "# Display the results\n",
    "df_pandas.head()"
   ]
  },
  {
   "cell_type": "markdown",
   "metadata": {},
   "source": [
    "Please comment:\n",
    "\n",
    "+ Was it necessary to convert to pandas to calculate the moving average return?\n",
    "Yes, because Dask does not support `.rolling()` operations across partitions. \n",
    "`.rolling(10).mean()` works well in Pandas but requires custom implementations in Dask.\n",
    "\n",
    "+ Would it have been better to do it in Dask? Why?\n",
    "For large datasets, using Dask's `map_partitions()` allows for distributed \n",
    "computation, making it more efficient for handling big data scenarios.\n",
    "\n",
    "(1 pt)"
   ]
  },
  {
   "cell_type": "markdown",
   "metadata": {},
   "source": [
    "## Criteria\n",
    "\n",
    "The [rubric](./assignment_1_rubric_clean.xlsx) contains the criteria for grading."
   ]
  },
  {
   "cell_type": "markdown",
   "metadata": {},
   "source": [
    "## Submission Information\n",
    "\n",
    "🚨 **Please review our [Assignment Submission Guide](https://github.com/UofT-DSI/onboarding/blob/main/onboarding_documents/submissions.md)** 🚨 for detailed instructions on how to format, branch, and submit your work. Following these guidelines is crucial for your submissions to be evaluated correctly.\n",
    "\n",
    "### Submission Parameters:\n",
    "* Submission Due Date: `HH:MM AM/PM - DD/MM/YYYY`\n",
    "* The branch name for your repo should be: `assignment-1`\n",
    "* What to submit for this assignment:\n",
    "    * This Jupyter Notebook (assignment_1.ipynb) should be populated and should be the only change in your pull request.\n",
    "* What the pull request link should look like for this assignment: `https://github.com/<your_github_username>/production/pull/<pr_id>`\n",
    "    * Open a private window in your browser. Copy and paste the link to your pull request into the address bar. Make sure you can see your pull request properly. This helps the technical facilitator and learning support staff review your submission easily.\n",
    "\n",
    "Checklist:\n",
    "- [ ] Created a branch with the correct naming convention.\n",
    "- [ ] Ensured that the repository is public.\n",
    "- [ ] Reviewed the PR description guidelines and adhered to them.\n",
    "- [ ] Verify that the link is accessible in a private browser window.\n",
    "\n",
    "If you encounter any difficulties or have questions, please don't hesitate to reach out to our team via our Slack at `#cohort-3-help`. Our Technical Facilitators and Learning Support staff are here to help you navigate any challenges."
   ]
  }
 ],
 "metadata": {
  "kernelspec": {
   "display_name": "venv",
   "language": "python",
   "name": "python3"
  },
  "language_info": {
   "codemirror_mode": {
    "name": "ipython",
    "version": 3
   },
   "file_extension": ".py",
   "mimetype": "text/x-python",
   "name": "python",
   "nbconvert_exporter": "python",
   "pygments_lexer": "ipython3",
   "version": "3.9.6"
  }
 },
 "nbformat": 4,
 "nbformat_minor": 4
}
